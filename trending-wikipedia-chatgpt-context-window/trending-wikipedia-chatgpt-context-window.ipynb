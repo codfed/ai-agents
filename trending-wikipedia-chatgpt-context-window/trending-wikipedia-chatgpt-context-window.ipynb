{
 "cells": [
  {
   "cell_type": "markdown",
   "metadata": {},
   "source": [
    "# Trending Wikipedia\n",
    "\n",
    "1. Get trending Wikipedia articles from yesterday\n",
    "2. Pass plain text from article to OpenAI for suggestsions as to why each article is trending\n",
    "3. Build HTML page to display each article and why it is trending"
   ]
  },
  {
   "cell_type": "code",
   "execution_count": 2,
   "metadata": {},
   "outputs": [],
   "source": [
    "# !pip install requests ollama tiktoken openai python-dotenv"
   ]
  },
  {
   "cell_type": "code",
   "execution_count": 3,
   "metadata": {},
   "outputs": [],
   "source": [
    "from dotenv import load_dotenv\n",
    "import os\n",
    "\n",
    "load_dotenv()\n",
    "\n",
    "OPENAI_API_KEY = os.environ[\"OPENAI_API_KEY\"]\n",
    "\n"
   ]
  },
  {
   "cell_type": "markdown",
   "metadata": {},
   "source": [
    "API call for the featured feed shows different for today than it does for any previous days.\n",
    "\n",
    "This is written for previous days only"
   ]
  },
  {
   "cell_type": "code",
   "execution_count": 4,
   "metadata": {},
   "outputs": [
    {
     "name": "stdout",
     "output_type": "stream",
     "text": [
      "API call: https://api.wikimedia.org/feed/v1/wikipedia/en/featured/2024/12/29\n",
      "Retrieved Wikipedia top article statistics for 2024-12-29 17:51:16.083668\n"
     ]
    }
   ],
   "source": [
    "import requests\n",
    "import datetime\n",
    "\n",
    "today = datetime.datetime.now()\n",
    "yesterday = today - datetime.timedelta(days=1)\n",
    "\n",
    "date_to_query = yesterday\n",
    "url = 'https://api.wikimedia.org/feed/v1/wikipedia/en/featured/' + date_to_query.strftime('%Y/%m/%d')\n",
    "\n",
    "\n",
    "response = requests.get(url)\n",
    "featured_feed = response.json()\n",
    "print(f\"API call: {url}\")\n",
    "print(f\"Retrieved Wikipedia top article statistics for {date_to_query}\")"
   ]
  },
  {
   "cell_type": "markdown",
   "metadata": {},
   "source": [
    "### Save API response to file"
   ]
  },
  {
   "cell_type": "code",
   "execution_count": 5,
   "metadata": {},
   "outputs": [
    {
     "name": "stdout",
     "output_type": "stream",
     "text": [
      "Saved Wikipedia response to data/2024-12-29.json\n"
     ]
    }
   ],
   "source": [
    "import os\n",
    "import json\n",
    "\n",
    "# Ensure the 'featured-feed' folder exists\n",
    "file_directory = \"data\"\n",
    "os.makedirs(file_directory, exist_ok=True)\n",
    "\n",
    "# Define the filename based on the date\n",
    "base_file_name = date_to_query.strftime('%Y-%m-%d')\n",
    "file_path = f'{file_directory}/{base_file_name}.json'\n",
    "\n",
    "# Save to JSON file (overwrite if it already exists)\n",
    "with open(file_path, 'w', encoding='utf-8') as file:\n",
    "    json.dump(featured_feed, file, indent=4, ensure_ascii=False)\n",
    "\n",
    "print(f'Saved Wikipedia response to {file_path}')"
   ]
  },
  {
   "cell_type": "markdown",
   "metadata": {},
   "source": [
    "# Keep an eye on the token count\n",
    "\n",
    "Since we're using the context window for the entire wikipedia article I want to keep an eye on the token count for each article. Here's what I've seen:\n",
    "\n",
    "- Squid_Game_season_2 (16k)\n",
    "- Olivia_Hussey (12k)\n",
    "- Greg_Gumbel (6k)\n",
    "- Bryant_Gumbel (8k)\n",
    "- Nosferatu_(2024_film) (17k)\n",
    "- Pushpa_2 (38k)\n",
    "- Manmohan_Singh (38k)\n",
    "\n",
    "So \"normal\" people have 5-10k tokens whereas Indian Politicians have 38k..."
   ]
  },
  {
   "cell_type": "code",
   "execution_count": 6,
   "metadata": {},
   "outputs": [],
   "source": [
    "import tiktoken\n",
    "\n",
    "def num_tokens_from_string(string: str, encoding_name: str) -> int:\n",
    "    encoding = tiktoken.get_encoding(encoding_name)\n",
    "    num_tokens = len(encoding.encode(string))\n",
    "    return num_tokens"
   ]
  },
  {
   "cell_type": "markdown",
   "metadata": {},
   "source": [
    "# Changing from Ollama to openai...\n",
    "\n",
    "When passing the entire article text to Ollama I was having a greate deal of hallucinations. Decided to see what it looked like to pass the entire text to ChatGPT. Dropped it down to do only the top article to test out the token count and cost\n",
    "\n",
    "\n",
    "- gpt-3.5-turbo-0125 16,385 tokens is not enough for the Anthropology article with 26k tokens\n",
    "- gpt-4-32k-0613 has a limit of 32k\n",
    "- gpt-4-turbo 128k tokens: \n",
    "\n",
    "### Iteration:\n",
    "\n",
    "Passing the entire article through the context window cost an average of $0.50 per article... All of the articles I spot checked had the relevant changes at the very top of the article. I wound up just passing the first 5000 characters to ChatGPT and got the same results for around $0.01 per article!\n"
   ]
  },
  {
   "cell_type": "code",
   "execution_count": 17,
   "metadata": {},
   "outputs": [
    {
     "name": "stdout",
     "output_type": "stream",
     "text": [
      "Analyzing Squid_Game_season_2\n",
      "https://en.wikipedia.org/w/index.php?title=Squid_Game_season_2&action=raw\n",
      "Token count: 16382\n",
      "Truncated Token count: 1401\n",
      "response: ChatCompletion(id='chatcmpl-AkNnUVWQNOUoZASuPMAKcYZWgQM2s', choices=[Choice(finish_reason='stop', index=0, logprobs=None, message=ChatCompletionMessage(content='\"Squid Game Season 2\" is likely trending on Wikipedia as it was recently released on December 26, 2024, just a few days before the trending date noted. This release has likely generated significant viewer interest and discussions, prompting users to seek more information about the new season, its plot, and cast details on Wikipedia.', refusal=None, role='assistant', audio=None, function_call=None, tool_calls=None))], created=1735617928, model='gpt-4-turbo-2024-04-09', object='chat.completion', service_tier=None, system_fingerprint='fp_1a5512f3de', usage=CompletionUsage(completion_tokens=69, prompt_tokens=1472, total_tokens=1541, completion_tokens_details=CompletionTokensDetails(accepted_prediction_tokens=0, audio_tokens=0, reasoning_tokens=0, rejected_prediction_tokens=0), prompt_tokens_details=PromptTokensDetails(audio_tokens=0, cached_tokens=0)))\n",
      "trendingreason: \"Squid Game Season 2\" is likely trending on Wikipedia as it was recently released on December 26, 2024, just a few days before the trending date noted. This release has likely generated significant viewer interest and discussions, prompting users to seek more information about the new season, its plot, and cast details on Wikipedia.\n",
      "Analyzing Olivia_Hussey\n",
      "https://en.wikipedia.org/w/index.php?title=Olivia_Hussey&action=raw\n",
      "Token count: 11491\n",
      "Truncated Token count: 1421\n",
      "response: ChatCompletion(id='chatcmpl-AkNnW9FlEBZiuC4z1bpu6cXrOcNpi', choices=[Choice(finish_reason='stop', index=0, logprobs=None, message=ChatCompletionMessage(content='The article on Olivia Hussey might be trending on Wikipedia due to her recent passing on December 27, 2024, prompting an influx of visitors seeking information on her life and career.', refusal=None, role='assistant', audio=None, function_call=None, tool_calls=None))], created=1735617930, model='gpt-4-turbo-2024-04-09', object='chat.completion', service_tier=None, system_fingerprint='fp_1a5512f3de', usage=CompletionUsage(completion_tokens=39, prompt_tokens=1488, total_tokens=1527, completion_tokens_details=CompletionTokensDetails(accepted_prediction_tokens=0, audio_tokens=0, reasoning_tokens=0, rejected_prediction_tokens=0), prompt_tokens_details=PromptTokensDetails(audio_tokens=0, cached_tokens=0)))\n",
      "trendingreason: The article on Olivia Hussey might be trending on Wikipedia due to her recent passing on December 27, 2024, prompting an influx of visitors seeking information on her life and career.\n",
      "Analyzing Greg_Gumbel\n",
      "https://en.wikipedia.org/w/index.php?title=Greg_Gumbel&action=raw\n",
      "Token count: 6044\n",
      "Truncated Token count: 1416\n",
      "response: ChatCompletion(id='chatcmpl-AkNnYjtszPhQ3oPJXzcD3O5Q0tfCb', choices=[Choice(finish_reason='stop', index=0, logprobs=None, message=ChatCompletionMessage(content='The Greg Gumbel Wikipedia article might be trending due to his recent passing on December 27, 2024. As a renowned sportscaster known for breaking barriers in sports broadcasting and his long career with CBS Sports, people are likely seeking more information about his life and accomplishments.', refusal=None, role='assistant', audio=None, function_call=None, tool_calls=None))], created=1735617932, model='gpt-4-turbo-2024-04-09', object='chat.completion', service_tier=None, system_fingerprint='fp_1a5512f3de', usage=CompletionUsage(completion_tokens=58, prompt_tokens=1483, total_tokens=1541, completion_tokens_details=CompletionTokensDetails(accepted_prediction_tokens=0, audio_tokens=0, reasoning_tokens=0, rejected_prediction_tokens=0), prompt_tokens_details=PromptTokensDetails(audio_tokens=0, cached_tokens=0)))\n",
      "trendingreason: The Greg Gumbel Wikipedia article might be trending due to his recent passing on December 27, 2024. As a renowned sportscaster known for breaking barriers in sports broadcasting and his long career with CBS Sports, people are likely seeking more information about his life and accomplishments.\n",
      "Analyzing Bryant_Gumbel\n",
      "https://en.wikipedia.org/w/index.php?title=Bryant_Gumbel&action=raw\n",
      "Token count: 7853\n",
      "Truncated Token count: 1470\n",
      "response: ChatCompletion(id='chatcmpl-AkNna0qmyZGyIeW1havcb1L8Sm0oz', choices=[Choice(finish_reason='stop', index=0, logprobs=None, message=ChatCompletionMessage(content='Based on the extract, the article on Bryant Gumbel might be trending on Wikipedia because of his significant and long-standing contributions to television journalism and sportscasting. Having hosted shows such as NBC\\'s \"Today\" and HBO\\'s \"Real Sports with Bryant Gumbel,\" alongside being the first to announce the September 11 attacks to CBS viewers, Gumbel\\'s career highlights and impact on broadcast media may be attracting renewed interest.', refusal=None, role='assistant', audio=None, function_call=None, tool_calls=None))], created=1735617934, model='gpt-4-turbo-2024-04-09', object='chat.completion', service_tier=None, system_fingerprint='fp_1a5512f3de', usage=CompletionUsage(completion_tokens=88, prompt_tokens=1537, total_tokens=1625, completion_tokens_details=CompletionTokensDetails(accepted_prediction_tokens=0, audio_tokens=0, reasoning_tokens=0, rejected_prediction_tokens=0), prompt_tokens_details=PromptTokensDetails(audio_tokens=0, cached_tokens=0)))\n",
      "trendingreason: Based on the extract, the article on Bryant Gumbel might be trending on Wikipedia because of his significant and long-standing contributions to television journalism and sportscasting. Having hosted shows such as NBC's \"Today\" and HBO's \"Real Sports with Bryant Gumbel,\" alongside being the first to announce the September 11 attacks to CBS viewers, Gumbel's career highlights and impact on broadcast media may be attracting renewed interest.\n",
      "Analyzing Nosferatu_(2024_film)\n",
      "https://en.wikipedia.org/w/index.php?title=Nosferatu_(2024_film)&action=raw\n",
      "Token count: 16603\n",
      "Truncated Token count: 1393\n",
      "response: ChatCompletion(id='chatcmpl-AkNndv4K9lbvkP9kYLhzx1p113f7p', choices=[Choice(finish_reason='stop', index=0, logprobs=None, message=ChatCompletionMessage(content='The \"Nosferatu\" (2024) article is likely trending on Wikipedia due to the film\\'s recent worldwide release on December 25, 2024, directed by Robert Eggers and featuring a notable cast including Bill Skarsgård and Lily-Rose Depp. Since the film is a remake of the classic 1922 silent horror \"Nosferatu\" and has received positive critical reviews, this surge in interest could be driven by audiences seeking more information after watching the movie or hearing about its unique take on the Dracula-inspired story.', refusal=None, role='assistant', audio=None, function_call=None, tool_calls=None))], created=1735617937, model='gpt-4-turbo-2024-04-09', object='chat.completion', service_tier=None, system_fingerprint='fp_1a5512f3de', usage=CompletionUsage(completion_tokens=113, prompt_tokens=1470, total_tokens=1583, completion_tokens_details=CompletionTokensDetails(accepted_prediction_tokens=0, audio_tokens=0, reasoning_tokens=0, rejected_prediction_tokens=0), prompt_tokens_details=PromptTokensDetails(audio_tokens=0, cached_tokens=0)))\n",
      "trendingreason: The \"Nosferatu\" (2024) article is likely trending on Wikipedia due to the film's recent worldwide release on December 25, 2024, directed by Robert Eggers and featuring a notable cast including Bill Skarsgård and Lily-Rose Depp. Since the film is a remake of the classic 1922 silent horror \"Nosferatu\" and has received positive critical reviews, this surge in interest could be driven by audiences seeking more information after watching the movie or hearing about its unique take on the Dracula-inspired story.\n",
      "Analyzing Squid_Game\n",
      "https://en.wikipedia.org/w/index.php?title=Squid_Game&action=raw\n",
      "Token count: 34999\n",
      "Truncated Token count: 1569\n",
      "response: ChatCompletion(id='chatcmpl-AkNngyFUCTeUc19ZQJ8XVzgt1OwNZ', choices=[Choice(finish_reason='stop', index=0, logprobs=None, message=ChatCompletionMessage(content='The Squid Game article on Wikipedia is likely trending due to the recent release of a new episode or season of the series around December 26, 2024, sparking increased interest and viewership. This increase typically drives fans and new viewers alike to look up more information about the show, its cast, and plot details.', refusal=None, role='assistant', audio=None, function_call=None, tool_calls=None))], created=1735617940, model='gpt-4-turbo-2024-04-09', object='chat.completion', service_tier=None, system_fingerprint='fp_1a5512f3de', usage=CompletionUsage(completion_tokens=66, prompt_tokens=1634, total_tokens=1700, completion_tokens_details=CompletionTokensDetails(accepted_prediction_tokens=0, audio_tokens=0, reasoning_tokens=0, rejected_prediction_tokens=0), prompt_tokens_details=PromptTokensDetails(audio_tokens=0, cached_tokens=0)))\n",
      "trendingreason: The Squid Game article on Wikipedia is likely trending due to the recent release of a new episode or season of the series around December 26, 2024, sparking increased interest and viewership. This increase typically drives fans and new viewers alike to look up more information about the show, its cast, and plot details.\n",
      "Analyzing Manmohan_Singh\n",
      "https://en.wikipedia.org/w/index.php?title=Manmohan_Singh&action=raw\n",
      "Token count: 31993\n",
      "Truncated Token count: 1559\n",
      "response: ChatCompletion(id='chatcmpl-AkNnkFYJ98MkOy6kfH6iPKGdN05lp', choices=[Choice(finish_reason='stop', index=0, logprobs=None, message=ChatCompletionMessage(content=\"The Wikipedia article on Manmohan Singh might be trending because he recently passed away on December 26, 2024. Singh was a notable figure in Indian politics, having served as the Prime Minister of India from 2004 to 2014 and being the country's first Sikh prime minister.\", refusal=None, role='assistant', audio=None, function_call=None, tool_calls=None))], created=1735617944, model='gpt-4-turbo-2024-04-09', object='chat.completion', service_tier=None, system_fingerprint='fp_1a5512f3de', usage=CompletionUsage(completion_tokens=61, prompt_tokens=1630, total_tokens=1691, completion_tokens_details=CompletionTokensDetails(accepted_prediction_tokens=0, audio_tokens=0, reasoning_tokens=0, rejected_prediction_tokens=0), prompt_tokens_details=PromptTokensDetails(audio_tokens=0, cached_tokens=1408)))\n",
      "trendingreason: The Wikipedia article on Manmohan Singh might be trending because he recently passed away on December 26, 2024. Singh was a notable figure in Indian politics, having served as the Prime Minister of India from 2004 to 2014 and being the country's first Sikh prime minister.\n",
      "Analyzing Nitish_Kumar_Reddy\n",
      "https://en.wikipedia.org/w/index.php?title=Nitish_Kumar_Reddy&action=raw\n",
      "Token count: 3704\n",
      "Truncated Token count: 1642\n",
      "response: ChatCompletion(id='chatcmpl-AkNnmDHhfDgqp2GWy2unefEwkM2Uy', choices=[Choice(finish_reason='stop', index=0, logprobs=None, message=ChatCompletionMessage(content='The article about Nitish Kumar Reddy might be trending on Wikipedia due to his recent debut in international cricket; he just started playing Test cricket for India against Australia and Twenty20 Internationals against Bangladesh in late 2024. His promising performances in these formats bring significant attention to him, especially since this marks the beginning of his international career.', refusal=None, role='assistant', audio=None, function_call=None, tool_calls=None))], created=1735617946, model='gpt-4-turbo-2024-04-09', object='chat.completion', service_tier=None, system_fingerprint='fp_1a5512f3de', usage=CompletionUsage(completion_tokens=70, prompt_tokens=1713, total_tokens=1783, completion_tokens_details=CompletionTokensDetails(accepted_prediction_tokens=0, audio_tokens=0, reasoning_tokens=0, rejected_prediction_tokens=0), prompt_tokens_details=PromptTokensDetails(audio_tokens=0, cached_tokens=0)))\n",
      "trendingreason: The article about Nitish Kumar Reddy might be trending on Wikipedia due to his recent debut in international cricket; he just started playing Test cricket for India against Australia and Twenty20 Internationals against Bangladesh in late 2024. His promising performances in these formats bring significant attention to him, especially since this marks the beginning of his international career.\n",
      "Analyzing Pushpa_2:_The_Rule\n",
      "https://en.wikipedia.org/w/index.php?title=Pushpa_2:_The_Rule&action=raw\n",
      "Token count: 38320\n",
      "Truncated Token count: 1518\n",
      "response: ChatCompletion(id='chatcmpl-AkNno6qi34zI6IUP6uE1nDWiLO46J', choices=[Choice(finish_reason='stop', index=0, logprobs=None, message=ChatCompletionMessage(content='The article on \"Pushpa 2: The Rule\" might be trending on Wikipedia due to its recent release on December 5, 2024, and significant box office success, marking a total gross of approximately ₹1719.5 crore as reported on Day 25, indicating strong public interest and ongoing discussions about the film.', refusal=None, role='assistant', audio=None, function_call=None, tool_calls=None))], created=1735617948, model='gpt-4-turbo-2024-04-09', object='chat.completion', service_tier=None, system_fingerprint='fp_1a5512f3de', usage=CompletionUsage(completion_tokens=68, prompt_tokens=1593, total_tokens=1661, completion_tokens_details=CompletionTokensDetails(accepted_prediction_tokens=0, audio_tokens=0, reasoning_tokens=0, rejected_prediction_tokens=0), prompt_tokens_details=PromptTokensDetails(audio_tokens=0, cached_tokens=0)))\n",
      "trendingreason: The article on \"Pushpa 2: The Rule\" might be trending on Wikipedia due to its recent release on December 5, 2024, and significant box office success, marking a total gross of approximately ₹1719.5 crore as reported on Day 25, indicating strong public interest and ongoing discussions about the film.\n",
      "Analyzing Deaths_in_2024\n",
      "https://en.wikipedia.org/w/index.php?title=Deaths_in_2024&action=raw\n",
      "Token count: 69988\n",
      "Truncated Token count: 1418\n",
      "response: ChatCompletion(id='chatcmpl-AkNnrTyazboJ2H4xB2XgMIYklFrm0', choices=[Choice(finish_reason='stop', index=0, logprobs=None, message=ChatCompletionMessage(content='The \"Deaths_in_2024\" article might be trending on Wikipedia due to a recent spike in notable deaths reported on 30th, including the passing of Joe Grech, Malta\\'s first Eurovision singer, and Paddy Hill, a Northern Irish human rights campaigner. The entries of high-profile individuals often attract increased viewership and edits, particularly soon after their deaths are made public.', refusal=None, role='assistant', audio=None, function_call=None, tool_calls=None))], created=1735617951, model='gpt-4-turbo-2024-04-09', object='chat.completion', service_tier=None, system_fingerprint='fp_1a5512f3de', usage=CompletionUsage(completion_tokens=80, prompt_tokens=1487, total_tokens=1567, completion_tokens_details=CompletionTokensDetails(accepted_prediction_tokens=0, audio_tokens=0, reasoning_tokens=0, rejected_prediction_tokens=0), prompt_tokens_details=PromptTokensDetails(audio_tokens=0, cached_tokens=0)))\n",
      "trendingreason: The \"Deaths_in_2024\" article might be trending on Wikipedia due to a recent spike in notable deaths reported on 30th, including the passing of Joe Grech, Malta's first Eurovision singer, and Paddy Hill, a Northern Irish human rights campaigner. The entries of high-profile individuals often attract increased viewership and edits, particularly soon after their deaths are made public.\n"
     ]
    }
   ],
   "source": [
    "from openai import OpenAI\n",
    "client = OpenAI(api_key=OPENAI_API_KEY)\n",
    "\n",
    "articles_with_reasons = []\n",
    "\n",
    "\n",
    "for item in featured_feed['mostread']['articles'][:10]:\n",
    "    title = item['title']\n",
    "    views = item['views']\n",
    "    link = item['content_urls']['desktop']['page']\n",
    "    extract = item['extract']\n",
    "    thumbnail = item.get('thumbnail', {}).get('source', None)\n",
    "    print(f\"Analyzing {title}\")\n",
    "\n",
    "    date_to_query = yesterday\n",
    "\n",
    "    # Download raw text of article\n",
    "    url = f\"https://en.wikipedia.org/w/index.php?title={title}&action=raw\"\n",
    "    print(url)\n",
    "\n",
    "    article_text = requests.get(url).text\n",
    "    article_text_truncated = article_text[:5000]\n",
    "    \n",
    "    print(f\"Token count: {num_tokens_from_string(article_text, 'cl100k_base')}\")\n",
    "    print(f\"Truncated Token count: {num_tokens_from_string(article_text_truncated, 'cl100k_base')}\")\n",
    "\n",
    "\n",
    "    prompt = f\"Act as a professional news summarizer. Based on your knowledge of {title} and the following extract. In 1-2 sentences, explain why the {title} article might be trending on Wikipedia on #{date_to_query}:\\n\\n{article_text_truncated}\"\n",
    "\n",
    "\n",
    "    response = client.chat.completions.create(\n",
    "    model=\"gpt-4-turbo\",\n",
    "    messages=[\n",
    "        {\n",
    "        \"role\": \"user\",\n",
    "        \"content\": prompt\n",
    "        }\n",
    "    ],\n",
    "    temperature=1,\n",
    "    max_tokens=2048,\n",
    "    top_p=1\n",
    "    )\n",
    "    print(f\"response: {response}\")\n",
    "    print(f\"trendingreason: {response.choices[0].message.content}\")\n",
    "    \n",
    "    article={\n",
    "        'title': title,\n",
    "        'views': views,\n",
    "        'link': link,\n",
    "        'thumbnail': thumbnail,\n",
    "        'extract': extract,\n",
    "        'trendingreason': response.choices[0].message.content\n",
    "    }\n",
    "\n",
    "\n",
    "\n",
    "    articles_with_reasons.append(article)\n"
   ]
  },
  {
   "cell_type": "markdown",
   "metadata": {},
   "source": [
    "Kept running into rate limit errors... But the results I was getting are very positive and close to what I was looking for.\n",
    "\n",
    "On the downside.. running this for two days hit the Tokens Per Minute limits and cost almost $7....\n",
    "\n",
    "This is enough for this"
   ]
  },
  {
   "cell_type": "markdown",
   "metadata": {},
   "source": [
    "### Save vital information to new file"
   ]
  },
  {
   "cell_type": "code",
   "execution_count": 19,
   "metadata": {},
   "outputs": [
    {
     "name": "stdout",
     "output_type": "stream",
     "text": [
      "articles_with_reasons saved to data/2024-12-29-trending-reasons.json\n"
     ]
    }
   ],
   "source": [
    "file_path = f'{file_directory}/{base_file_name}-trending-reasons.json'\n",
    "\n",
    "# Save to JSON file (overwrite if it already exists)\n",
    "with open(file_path, 'w', encoding='utf-8') as file:\n",
    "    json.dump(articles_with_reasons, file, indent=4, ensure_ascii=False)\n",
    "\n",
    "print(f'articles_with_reasons saved to {file_path}')"
   ]
  },
  {
   "cell_type": "markdown",
   "metadata": {},
   "source": [
    "#### Build HTML Page to display the top 10 list complete with thumbnails and the reason generated by ChatGPT"
   ]
  },
  {
   "cell_type": "code",
   "execution_count": 20,
   "metadata": {},
   "outputs": [
    {
     "data": {
      "text/html": [
       "<ol>\n",
       "\n",
       "    <li>\n",
       "        <h2>\n",
       "          <a href=\"https://en.wikipedia.org/wiki/Squid_Game_season_2\" target=\"_blank\">Squid_Game_season_2</a><br>\n",
       "        </h2>\n",
       "        <img src=\"https://upload.wikimedia.org/wikipedia/en/3/38/Squid_Game_season_2_poster.png\" alt=\"Thumbnail for Squid_Game_season_2\"/><br>\n",
       "        <strong>Views:</strong> 754367<br>\n",
       "        <strong>Extract:</strong> The second season of the South Korean dystopian survival thriller horror television series Squid Game, marketed as Squid Game 2, was created by Korean writer and television producer Hwang Dong-hyuk. Produced by Netflix, it was released on December 26, 2024.<br>\n",
       "        <strong>Reason for Trending:</strong> \"Squid Game Season 2\" is likely trending on Wikipedia as it was recently released on December 26, 2024, just a few days before the trending date noted. This release has likely generated significant viewer interest and discussions, prompting users to seek more information about the new season, its plot, and cast details on Wikipedia.\n",
       "    </li>\n",
       "\n",
       "    \n",
       "    <li>\n",
       "        <h2>\n",
       "          <a href=\"https://en.wikipedia.org/wiki/Olivia_Hussey\" target=\"_blank\">Olivia_Hussey</a><br>\n",
       "        </h2>\n",
       "        <img src=\"https://upload.wikimedia.org/wikipedia/commons/e/e2/Olivia_Hussey_ca._1970s_%28cropped%29.png\" alt=\"Thumbnail for Olivia_Hussey\"/><br>\n",
       "        <strong>Views:</strong> 577151<br>\n",
       "        <strong>Extract:</strong> Olivia Hussey was a British actress. Her awards included a Golden Globe Award and a David di Donatello Award. The daughter of Argentine tango singer Osvaldo Ribó, Hussey was born in Buenos Aires but spent most of her early life in her mother's native England. She aspired to become an actress at a young age and studied drama for five years at Italia Conti Academy of Theatre Arts in London.<br>\n",
       "        <strong>Reason for Trending:</strong> The article on Olivia Hussey might be trending on Wikipedia due to her recent passing on December 27, 2024, prompting an influx of visitors seeking information on her life and career.\n",
       "    </li>\n",
       "\n",
       "    \n",
       "    <li>\n",
       "        <h2>\n",
       "          <a href=\"https://en.wikipedia.org/wiki/Greg_Gumbel\" target=\"_blank\">Greg_Gumbel</a><br>\n",
       "        </h2>\n",
       "        <img src=\"https://upload.wikimedia.org/wikipedia/commons/0/03/Greg_Gumbel_2009.jpg\" alt=\"Thumbnail for Greg_Gumbel\"/><br>\n",
       "        <strong>Views:</strong> 480422<br>\n",
       "        <strong>Extract:</strong> Greg Gumbel was an American television sportscaster. He was best known for his various assignments for CBS Sports. He became the first African-American announcer to call play-by-play of a major sports championship in the United States when he announced Super Bowl XXXV for the CBS network in 2001. Until 2023, Gumbel was the studio host for CBS' men's college basketball coverage and was a play-by-play broadcaster for the NFL on CBS.<br>\n",
       "        <strong>Reason for Trending:</strong> The Greg Gumbel Wikipedia article might be trending due to his recent passing on December 27, 2024. As a renowned sportscaster known for breaking barriers in sports broadcasting and his long career with CBS Sports, people are likely seeking more information about his life and accomplishments.\n",
       "    </li>\n",
       "\n",
       "    \n",
       "    <li>\n",
       "        <h2>\n",
       "          <a href=\"https://en.wikipedia.org/wiki/Bryant_Gumbel\" target=\"_blank\">Bryant_Gumbel</a><br>\n",
       "        </h2>\n",
       "        <img src=\"https://upload.wikimedia.org/wikipedia/commons/thumb/4/4e/Bryant_Gumbel_Peabody_2013_%28cropped%29.jpg/320px-Bryant_Gumbel_Peabody_2013_%28cropped%29.jpg\" alt=\"Thumbnail for Bryant_Gumbel\"/><br>\n",
       "        <strong>Views:</strong> 424128<br>\n",
       "        <strong>Extract:</strong> Bryant Charles Gumbel is an American television journalist and sportscaster. He was best known for his 15 years as co-host of NBC's Today. His older brother was sportscaster Greg Gumbel. From 1995 to 2023, he hosted HBO's acclaimed investigative series Real Sports with Bryant Gumbel, which has been rated as \"flat out TV's best sports program\" by the Los Angeles Times. It won a Peabody Award in 2012.<br>\n",
       "        <strong>Reason for Trending:</strong> Based on the extract, the article on Bryant Gumbel might be trending on Wikipedia because of his significant and long-standing contributions to television journalism and sportscasting. Having hosted shows such as NBC's \"Today\" and HBO's \"Real Sports with Bryant Gumbel,\" alongside being the first to announce the September 11 attacks to CBS viewers, Gumbel's career highlights and impact on broadcast media may be attracting renewed interest.\n",
       "    </li>\n",
       "\n",
       "    \n",
       "    <li>\n",
       "        <h2>\n",
       "          <a href=\"https://en.wikipedia.org/wiki/Nosferatu_(2024_film)\" target=\"_blank\">Nosferatu_(2024_film)</a><br>\n",
       "        </h2>\n",
       "        <img src=\"https://upload.wikimedia.org/wikipedia/en/4/48/Nosferatu_IMAX_poster_2024.jpg\" alt=\"Thumbnail for Nosferatu_(2024_film)\"/><br>\n",
       "        <strong>Views:</strong> 314003<br>\n",
       "        <strong>Extract:</strong> Nosferatu is a 2024 American gothic horror film written and directed by Robert Eggers. It is a remake of the 1922 silent film Nosferatu, which was inspired by Bram Stoker's 1897 novel Dracula. The film stars Bill Skarsgård as the titular character, Nicholas Hoult and Lily-Rose Depp as the married Hutter couple, with Aaron Taylor-Johnson, Emma Corrin, Ralph Ineson, Simon McBurney and Willem Dafoe in the supporting roles.<br>\n",
       "        <strong>Reason for Trending:</strong> The \"Nosferatu\" (2024) article is likely trending on Wikipedia due to the film's recent worldwide release on December 25, 2024, directed by Robert Eggers and featuring a notable cast including Bill Skarsgård and Lily-Rose Depp. Since the film is a remake of the classic 1922 silent horror \"Nosferatu\" and has received positive critical reviews, this surge in interest could be driven by audiences seeking more information after watching the movie or hearing about its unique take on the Dracula-inspired story.\n",
       "    </li>\n",
       "\n",
       "    \n",
       "    <li>\n",
       "        <h2>\n",
       "          <a href=\"https://en.wikipedia.org/wiki/Squid_Game\" target=\"_blank\">Squid_Game</a><br>\n",
       "        </h2>\n",
       "        <img src=\"https://upload.wikimedia.org/wikipedia/commons/thumb/e/e4/Squid_Game_2021_vector_logo.svg/320px-Squid_Game_2021_vector_logo.svg.png\" alt=\"Thumbnail for Squid_Game\"/><br>\n",
       "        <strong>Views:</strong> 280025<br>\n",
       "        <strong>Extract:</strong> Squid Game is a South Korean dystopian survival thriller television series created, written and directed by Hwang Dong-hyuk for Netflix. The series revolves around a secret contest where 456 players, all of whom are in deep financial hardship, risk their lives to play a series of deadly children's games for the chance to win a ₩45.6 billion prize. The series' title draws from ojingŏ (\"squid\"), a Korean children's game. Lee Jung-jae leads an ensemble cast.<br>\n",
       "        <strong>Reason for Trending:</strong> The Squid Game article on Wikipedia is likely trending due to the recent release of a new episode or season of the series around December 26, 2024, sparking increased interest and viewership. This increase typically drives fans and new viewers alike to look up more information about the show, its cast, and plot details.\n",
       "    </li>\n",
       "\n",
       "    \n",
       "    <li>\n",
       "        <h2>\n",
       "          <a href=\"https://en.wikipedia.org/wiki/Manmohan_Singh\" target=\"_blank\">Manmohan_Singh</a><br>\n",
       "        </h2>\n",
       "        <img src=\"https://upload.wikimedia.org/wikipedia/commons/thumb/f/f1/Official_Portrait_of_the_Prime_Minister_Dr._Manmohan_Singh.jpg/320px-Official_Portrait_of_the_Prime_Minister_Dr._Manmohan_Singh.jpg\" alt=\"Thumbnail for Manmohan_Singh\"/><br>\n",
       "        <strong>Views:</strong> 252999<br>\n",
       "        <strong>Extract:</strong> Manmohan Singh was an Indian politician, economist, academic, and bureaucrat, who served as the 13th prime minister of India from 2004 to 2014. He was the fourth longest-serving prime minister after Jawaharlal Nehru, Indira Gandhi and Narendra Modi. A member of the Indian National Congress, Singh was the first Sikh prime minister of India. He was also the first prime minister since Nehru to be re-elected after completing a full five-year term.<br>\n",
       "        <strong>Reason for Trending:</strong> The Wikipedia article on Manmohan Singh might be trending because he recently passed away on December 26, 2024. Singh was a notable figure in Indian politics, having served as the Prime Minister of India from 2004 to 2014 and being the country's first Sikh prime minister.\n",
       "    </li>\n",
       "\n",
       "    \n",
       "    <li>\n",
       "        <h2>\n",
       "          <a href=\"https://en.wikipedia.org/wiki/Nitish_Kumar_Reddy\" target=\"_blank\">Nitish_Kumar_Reddy</a><br>\n",
       "        </h2>\n",
       "        <img src=\"https://upload.wikimedia.org/wikipedia/commons/thumb/1/1e/Nitish_Kumar_Reddy_BGT_2024_%28cropped%29_2.jpg/320px-Nitish_Kumar_Reddy_BGT_2024_%28cropped%29_2.jpg\" alt=\"Thumbnail for Nitish_Kumar_Reddy\"/><br>\n",
       "        <strong>Views:</strong> 249568<br>\n",
       "        <strong>Extract:</strong> Kaki Nitish Kumar Reddy is an Indian International cricketer who is an all-rounder. He bats right-handed and bowls right-arm medium fast. He plays for Andhra in domestic cricket & plays for Sunrisers Hyderabad in the Indian Premier League. Nitish made his T20I debut on 6 October 2024 and his Test cricket debut for India on 22 November 2024 during the 2024-25 Border–Gavaskar Trophy.<br>\n",
       "        <strong>Reason for Trending:</strong> The article about Nitish Kumar Reddy might be trending on Wikipedia due to his recent debut in international cricket; he just started playing Test cricket for India against Australia and Twenty20 Internationals against Bangladesh in late 2024. His promising performances in these formats bring significant attention to him, especially since this marks the beginning of his international career.\n",
       "    </li>\n",
       "\n",
       "    \n",
       "    <li>\n",
       "        <h2>\n",
       "          <a href=\"https://en.wikipedia.org/wiki/Pushpa_2%3A_The_Rule\" target=\"_blank\">Pushpa_2:_The_Rule</a><br>\n",
       "        </h2>\n",
       "        <img src=\"https://upload.wikimedia.org/wikipedia/en/1/11/Pushpa_2-_The_Rule.jpg\" alt=\"Thumbnail for Pushpa_2:_The_Rule\"/><br>\n",
       "        <strong>Views:</strong> 200500<br>\n",
       "        <strong>Extract:</strong> Pushpa 2: The Rule is a 2024 Indian Telugu-language action drama film directed by Sukumar and produced by Mythri Movie Makers, in association with Sukumar Writings. The film stars Allu Arjun in the titular role, alongside Rashmika Mandanna, Fahadh Faasil, Jagapathi Babu, Jagadeesh Prathap Bandari, Dhananjaya, Rao Ramesh, Sunil, Anasuya Bharadwaj and Ajay. It is the second instalment of the Pushpa film series and the sequel to Pushpa: The Rise (2021). The film follows Pushpa Raj, a coolie risen to the ranks of sandalwood smuggler, who begins to face tough opposition from enemies, including SP Bhanwar Singh Shekhawat IPS.<br>\n",
       "        <strong>Reason for Trending:</strong> The article on \"Pushpa 2: The Rule\" might be trending on Wikipedia due to its recent release on December 5, 2024, and significant box office success, marking a total gross of approximately ₹1719.5 crore as reported on Day 25, indicating strong public interest and ongoing discussions about the film.\n",
       "    </li>\n",
       "\n",
       "    \n",
       "    <li>\n",
       "        <h2>\n",
       "          <a href=\"https://en.wikipedia.org/wiki/Deaths_in_2024\" target=\"_blank\">Deaths_in_2024</a><br>\n",
       "        </h2>\n",
       "        <p><em>No thumbnail available</em></p>\n",
       "        <strong>Views:</strong> 157698<br>\n",
       "        <strong>Extract:</strong> \n",
       "\n",
       "\n",
       "The following notable deaths occurred in 2024. Names are reported under the date of death, in alphabetical order. A typical entry reports information in the following sequence:Name, age, country of citizenship at birth, subsequent nationality, what subject was noted for, cause of death, and a reference.<br>\n",
       "        <strong>Reason for Trending:</strong> The \"Deaths_in_2024\" article might be trending on Wikipedia due to a recent spike in notable deaths reported on 30th, including the passing of Joe Grech, Malta's first Eurovision singer, and Paddy Hill, a Northern Irish human rights campaigner. The entries of high-profile individuals often attract increased viewership and edits, particularly soon after their deaths are made public.\n",
       "    </li>\n",
       "\n",
       "    </ol>"
      ],
      "text/plain": [
       "<IPython.core.display.HTML object>"
      ]
     },
     "metadata": {},
     "output_type": "display_data"
    }
   ],
   "source": [
    "# Start building the HTML\n",
    "html_list = \"<ol>\\n\"\n",
    "\n",
    "# Iterate through the data\n",
    "for item in articles_with_reasons:\n",
    "    title = item['title']\n",
    "    link = item['link']\n",
    "    thumbnail = item['thumbnail']\n",
    "    trendingreason = item['trendingreason']\n",
    "    views = item['views']\n",
    "    extract = item['extract']\n",
    "\n",
    "    # Handle null thumbnail\n",
    "    if thumbnail:\n",
    "        thumbnail_html = f'<img src=\"{thumbnail}\" alt=\"Thumbnail for {title}\"/><br>'\n",
    "    else:\n",
    "        thumbnail_html = '<p><em>No thumbnail available</em></p>'\n",
    "    \n",
    "    # Create a list item for each entry\n",
    "    html_list += f\"\"\"\n",
    "    <li>\n",
    "        <h2>\n",
    "          <a href=\"{link}\" target=\"_blank\">{title}</a><br>\n",
    "        </h2>\n",
    "        {thumbnail_html}\n",
    "        <strong>Views:</strong> {views}<br>\n",
    "        <strong>Extract:</strong> {extract}<br>\n",
    "        <strong>Reason for Trending:</strong> {trendingreason}\n",
    "    </li>\\n\n",
    "    \"\"\"\n",
    "\n",
    "# Close the HTML list\n",
    "html_list += \"</ol>\"\n",
    "\n",
    "# Save to html file (overwrite if it already exists)\n",
    "file_path = f'{file_directory}/{base_file_name}.html'\n",
    "\n",
    "with open(file_path, 'w', encoding='utf-8') as file:\n",
    "    file.write(html_list)\n",
    "\n",
    "# Display the HTML in the notebook\n",
    "from IPython.display import display, HTML\n",
    "display(HTML(html_list))"
   ]
  }
 ],
 "metadata": {
  "kernelspec": {
   "display_name": ".venv",
   "language": "python",
   "name": "python3"
  },
  "language_info": {
   "codemirror_mode": {
    "name": "ipython",
    "version": 3
   },
   "file_extension": ".py",
   "mimetype": "text/x-python",
   "name": "python",
   "nbconvert_exporter": "python",
   "pygments_lexer": "ipython3",
   "version": "3.12.7"
  },
  "orig_nbformat": 4
 },
 "nbformat": 4,
 "nbformat_minor": 2
}
