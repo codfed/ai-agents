{
 "cells": [
  {
   "cell_type": "markdown",
   "metadata": {},
   "source": [
    "# Trending Wikipedia\n",
    "\n",
    "1. Get trending Wikipedia articles from yesterday\n",
    "2. Pass plain text from article to OpenAI for suggestsions as to why each article is trending\n",
    "3. Build HTML page to display each article and why it is trending"
   ]
  },
  {
   "cell_type": "code",
   "execution_count": 2,
   "metadata": {},
   "outputs": [],
   "source": [
    "# !pip install requests tiktoken openai python-dotenv"
   ]
  },
  {
   "cell_type": "code",
   "execution_count": 3,
   "metadata": {},
   "outputs": [],
   "source": [
    "from dotenv import load_dotenv\n",
    "import os\n",
    "\n",
    "load_dotenv()\n",
    "\n",
    "OPENAI_API_KEY = os.environ[\"OPENAI_API_KEY\"]\n",
    "\n"
   ]
  },
  {
   "cell_type": "markdown",
   "metadata": {},
   "source": [
    "API call for the featured feed shows different for today than it does for any previous days.\n",
    "\n",
    "This is written for previous days only"
   ]
  },
  {
   "cell_type": "code",
   "execution_count": 4,
   "metadata": {},
   "outputs": [
    {
     "name": "stdout",
     "output_type": "stream",
     "text": [
      "API call: https://api.wikimedia.org/feed/v1/wikipedia/en/featured/2024/12/29\n",
      "Retrieved Wikipedia top article statistics for 2024-12-29 17:51:16.083668\n"
     ]
    }
   ],
   "source": [
    "import requests\n",
    "import datetime\n",
    "\n",
    "today = datetime.datetime.now()\n",
    "yesterday = today - datetime.timedelta(days=1)\n",
    "\n",
    "date_to_query = yesterday\n",
    "url = 'https://api.wikimedia.org/feed/v1/wikipedia/en/featured/' + date_to_query.strftime('%Y/%m/%d')\n",
    "\n",
    "\n",
    "response = requests.get(url)\n",
    "featured_feed = response.json()\n",
    "print(f\"API call: {url}\")\n",
    "print(f\"Retrieved Wikipedia top article statistics for {date_to_query}\")"
   ]
  },
  {
   "cell_type": "markdown",
   "metadata": {},
   "source": [
    "### Save API response to file"
   ]
  },
  {
   "cell_type": "code",
   "execution_count": 5,
   "metadata": {},
   "outputs": [
    {
     "name": "stdout",
     "output_type": "stream",
     "text": [
      "Saved Wikipedia response to data/2024-12-29.json\n"
     ]
    }
   ],
   "source": [
    "import os\n",
    "import json\n",
    "\n",
    "# Ensure the 'featured-feed' folder exists\n",
    "file_directory = \"data\"\n",
    "os.makedirs(file_directory, exist_ok=True)\n",
    "\n",
    "# Define the filename based on the date\n",
    "base_file_name = date_to_query.strftime('%Y-%m-%d')\n",
    "file_path = f'{file_directory}/{base_file_name}.json'\n",
    "\n",
    "# Save to JSON file (overwrite if it already exists)\n",
    "with open(file_path, 'w', encoding='utf-8') as file:\n",
    "    json.dump(featured_feed, file, indent=4, ensure_ascii=False)\n",
    "\n",
    "print(f'Saved Wikipedia response to {file_path}')"
   ]
  },
  {
   "cell_type": "markdown",
   "metadata": {},
   "source": [
    "# Keep an eye on the token count\n",
    "\n",
    "Since we're using the context window for the entire wikipedia article I want to keep an eye on the token count for each article. Here's what I've seen:\n",
    "\n",
    "- Squid_Game_season_2 (16k)\n",
    "- Olivia_Hussey (12k)\n",
    "- Greg_Gumbel (6k)\n",
    "- Bryant_Gumbel (8k)\n",
    "- Nosferatu_(2024_film) (17k)\n",
    "- Pushpa_2 (38k)\n",
    "- Manmohan_Singh (38k)\n",
    "\n",
    "So \"normal\" people have 5-10k tokens whereas Indian Politicians have 38k..."
   ]
  },
  {
   "cell_type": "code",
   "execution_count": 6,
   "metadata": {},
   "outputs": [],
   "source": [
    "import tiktoken\n",
    "\n",
    "def num_tokens_from_string(string: str, encoding_name: str) -> int:\n",
    "    encoding = tiktoken.get_encoding(encoding_name)\n",
    "    num_tokens = len(encoding.encode(string))\n",
    "    return num_tokens"
   ]
  },
  {
   "cell_type": "markdown",
   "metadata": {},
   "source": [
    "# Changing from Ollama to openai...\n",
    "\n",
    "When passing the entire article text to Ollama I was having a greate deal of hallucinations. Decided to see what it looked like to pass the entire text to ChatGPT. Dropped it down to do only the top article to test out the token count and cost\n",
    "\n",
    "\n",
    "- gpt-3.5-turbo-0125 16,385 tokens is not enough for the Anthropology article with 26k tokens\n",
    "- gpt-4-32k-0613 has a limit of 32k\n",
    "- gpt-4-turbo 128k tokens: \n",
    "\n",
    "### Iteration:\n",
    "\n",
    "Passing the entire article through the context window cost an average of $0.50 per article... All of the articles I spot checked had the relevant changes at the very top of the article. I wound up just passing the first 5000 characters to ChatGPT and got the same results for around $0.01 per article!\n"
   ]
  },
  {
   "cell_type": "code",
   "execution_count": 21,
   "metadata": {},
   "outputs": [
    {
     "name": "stdout",
     "output_type": "stream",
     "text": [
      "Analyzing Squid_Game_season_2\n",
      "https://en.wikipedia.org/w/index.php?title=Squid_Game_season_2&action=raw\n",
      "Token count: 16382\n",
      "Truncated Token count: 1401\n",
      "response: ChatCompletion(id='chatcmpl-AkO4bGb9y5rQG6TlczypS1rtBMhua', choices=[Choice(finish_reason='stop', index=0, logprobs=None, message=ChatCompletionMessage(content=\"The article on *Squid Game* Season 2 is likely trending on Wikipedia due to the show's recent release on December 26, 2024, which has generated significant buzz and media coverage. Following the success of its first season, the anticipation for the continuation of Seong Gi-hun's story, alongside the confirmation of a third season set for 2025, has captured the attention of fans and critics alike.\", refusal=None, role='assistant', audio=None, function_call=None, tool_calls=None))], created=1735618989, model='gpt-4o-mini-2024-07-18', object='chat.completion', service_tier=None, system_fingerprint='fp_0aa8d3e20b', usage=CompletionUsage(completion_tokens=86, prompt_tokens=1444, total_tokens=1530, completion_tokens_details=CompletionTokensDetails(accepted_prediction_tokens=0, audio_tokens=0, reasoning_tokens=0, rejected_prediction_tokens=0), prompt_tokens_details=PromptTokensDetails(audio_tokens=0, cached_tokens=0)))\n",
      "trendingreason: The article on *Squid Game* Season 2 is likely trending on Wikipedia due to the show's recent release on December 26, 2024, which has generated significant buzz and media coverage. Following the success of its first season, the anticipation for the continuation of Seong Gi-hun's story, alongside the confirmation of a third season set for 2025, has captured the attention of fans and critics alike.\n",
      "Analyzing Olivia_Hussey\n",
      "https://en.wikipedia.org/w/index.php?title=Olivia_Hussey&action=raw\n",
      "Token count: 11491\n",
      "Truncated Token count: 1421\n",
      "response: ChatCompletion(id='chatcmpl-AkO4czts4EtEQ8zIQzlldg1TbHZo7', choices=[Choice(finish_reason='stop', index=0, logprobs=None, message=ChatCompletionMessage(content='The article on Olivia Hussey is trending on Wikipedia following her recent death on December 27, 2024, at the age of 73. As a celebrated actress known for iconic roles in films such as *Romeo and Juliet* (1968) and *Black Christmas* (1974), her passing has prompted widespread media coverage and public interest, resulting in increased traffic to her Wikipedia page.', refusal=None, role='assistant', audio=None, function_call=None, tool_calls=None))], created=1735618990, model='gpt-4o-mini-2024-07-18', object='chat.completion', service_tier=None, system_fingerprint='fp_0aa8d3e20b', usage=CompletionUsage(completion_tokens=82, prompt_tokens=1475, total_tokens=1557, completion_tokens_details=CompletionTokensDetails(accepted_prediction_tokens=0, audio_tokens=0, reasoning_tokens=0, rejected_prediction_tokens=0), prompt_tokens_details=PromptTokensDetails(audio_tokens=0, cached_tokens=0)))\n",
      "trendingreason: The article on Olivia Hussey is trending on Wikipedia following her recent death on December 27, 2024, at the age of 73. As a celebrated actress known for iconic roles in films such as *Romeo and Juliet* (1968) and *Black Christmas* (1974), her passing has prompted widespread media coverage and public interest, resulting in increased traffic to her Wikipedia page.\n",
      "Analyzing Greg_Gumbel\n",
      "https://en.wikipedia.org/w/index.php?title=Greg_Gumbel&action=raw\n",
      "Token count: 6044\n",
      "Truncated Token count: 1416\n",
      "response: ChatCompletion(id='chatcmpl-AkO4eY3vuKRKg4mfDp4HoRTG7nWZd', choices=[Choice(finish_reason='stop', index=0, logprobs=None, message=ChatCompletionMessage(content='The Greg Gumbel article is likely trending on Wikipedia due to the recent passing of the renowned sportscaster on December 27, 2024, at the age of 78. His significant contributions to sports broadcasting, including being the first African-American announcer for a major sports championship, have sparked renewed interest in his legacy and career.', refusal=None, role='assistant', audio=None, function_call=None, tool_calls=None))], created=1735618992, model='gpt-4o-mini-2024-07-18', object='chat.completion', service_tier=None, system_fingerprint='fp_0aa8d3e20b', usage=CompletionUsage(completion_tokens=70, prompt_tokens=1472, total_tokens=1542, completion_tokens_details=CompletionTokensDetails(accepted_prediction_tokens=0, audio_tokens=0, reasoning_tokens=0, rejected_prediction_tokens=0), prompt_tokens_details=PromptTokensDetails(audio_tokens=0, cached_tokens=0)))\n",
      "trendingreason: The Greg Gumbel article is likely trending on Wikipedia due to the recent passing of the renowned sportscaster on December 27, 2024, at the age of 78. His significant contributions to sports broadcasting, including being the first African-American announcer for a major sports championship, have sparked renewed interest in his legacy and career.\n",
      "Analyzing Bryant_Gumbel\n",
      "https://en.wikipedia.org/w/index.php?title=Bryant_Gumbel&action=raw\n",
      "Token count: 7853\n",
      "Truncated Token count: 1470\n",
      "response: ChatCompletion(id='chatcmpl-AkO4hCDrne5eSaKRgamJiUE6yXrDF', choices=[Choice(finish_reason='stop', index=0, logprobs=None, message=ChatCompletionMessage(content='The Bryant Gumbel article might be trending on Wikipedia around December 29, 2024, due to significant recent media coverage of his career achievements or possible retrospectives following a milestone anniversary of his influential work in journalism and sports broadcasting. Additionally, any events related to his personal life or health, or tributes in the wake of his passing, could further amplify interest in his biography.', refusal=None, role='assistant', audio=None, function_call=None, tool_calls=None))], created=1735618995, model='gpt-4o-mini-2024-07-18', object='chat.completion', service_tier=None, system_fingerprint='fp_0aa8d3e20b', usage=CompletionUsage(completion_tokens=79, prompt_tokens=1532, total_tokens=1611, completion_tokens_details=CompletionTokensDetails(accepted_prediction_tokens=0, audio_tokens=0, reasoning_tokens=0, rejected_prediction_tokens=0), prompt_tokens_details=PromptTokensDetails(audio_tokens=0, cached_tokens=0)))\n",
      "trendingreason: The Bryant Gumbel article might be trending on Wikipedia around December 29, 2024, due to significant recent media coverage of his career achievements or possible retrospectives following a milestone anniversary of his influential work in journalism and sports broadcasting. Additionally, any events related to his personal life or health, or tributes in the wake of his passing, could further amplify interest in his biography.\n",
      "Analyzing Nosferatu_(2024_film)\n",
      "https://en.wikipedia.org/w/index.php?title=Nosferatu_(2024_film)&action=raw\n",
      "Token count: 16603\n",
      "Truncated Token count: 1393\n",
      "response: ChatCompletion(id='chatcmpl-AkO4jEoMdLqazOL4px5KeB6CT4xWX', choices=[Choice(finish_reason='stop', index=0, logprobs=None, message=ChatCompletionMessage(content=\"The article on *Nosferatu* (2024 film) is trending on Wikipedia as of December 29, 2024, likely due to its recent release on December 25, 2024, and the noteworthy positive critical reception it has received, marking it as a significant cinematic event. Directed by Robert Eggers and featuring a star-studded cast, the film's intriguing blend of horror elements and its connections to classic literature make it a topic of interest among movie enthusiasts.\", refusal=None, role='assistant', audio=None, function_call=None, tool_calls=None))], created=1735618997, model='gpt-4o-mini-2024-07-18', object='chat.completion', service_tier=None, system_fingerprint='fp_0aa8d3e20b', usage=CompletionUsage(completion_tokens=98, prompt_tokens=1463, total_tokens=1561, completion_tokens_details=CompletionTokensDetails(accepted_prediction_tokens=0, audio_tokens=0, reasoning_tokens=0, rejected_prediction_tokens=0), prompt_tokens_details=PromptTokensDetails(audio_tokens=0, cached_tokens=0)))\n",
      "trendingreason: The article on *Nosferatu* (2024 film) is trending on Wikipedia as of December 29, 2024, likely due to its recent release on December 25, 2024, and the noteworthy positive critical reception it has received, marking it as a significant cinematic event. Directed by Robert Eggers and featuring a star-studded cast, the film's intriguing blend of horror elements and its connections to classic literature make it a topic of interest among movie enthusiasts.\n",
      "Analyzing Squid_Game\n",
      "https://en.wikipedia.org/w/index.php?title=Squid_Game&action=raw\n",
      "Token count: 34999\n",
      "Truncated Token count: 1569\n",
      "response: ChatCompletion(id='chatcmpl-AkO4kojuHOBFGoIrtqa1s1EyHtn7f', choices=[Choice(finish_reason='stop', index=0, logprobs=None, message=ChatCompletionMessage(content='The \"Squid Game\" article is likely trending on Wikipedia on December 29, 2024, due to the recent release of its highly anticipated second season on December 26, which has generated significant viewer interest and conversation. Additionally, the success of the show, both critically and commercially, continues to keep it in the public eye, especially as fans discuss new developments in the story and its themes.', refusal=None, role='assistant', audio=None, function_call=None, tool_calls=None))], created=1735618998, model='gpt-4o-mini-2024-07-18', object='chat.completion', service_tier=None, system_fingerprint='fp_d02d531b47', usage=CompletionUsage(completion_tokens=82, prompt_tokens=1580, total_tokens=1662, completion_tokens_details=CompletionTokensDetails(accepted_prediction_tokens=0, audio_tokens=0, reasoning_tokens=0, rejected_prediction_tokens=0), prompt_tokens_details=PromptTokensDetails(audio_tokens=0, cached_tokens=0)))\n",
      "trendingreason: The \"Squid Game\" article is likely trending on Wikipedia on December 29, 2024, due to the recent release of its highly anticipated second season on December 26, which has generated significant viewer interest and conversation. Additionally, the success of the show, both critically and commercially, continues to keep it in the public eye, especially as fans discuss new developments in the story and its themes.\n",
      "Analyzing Manmohan_Singh\n",
      "https://en.wikipedia.org/w/index.php?title=Manmohan_Singh&action=raw\n",
      "Token count: 31993\n",
      "Truncated Token count: 1559\n",
      "response: ChatCompletion(id='chatcmpl-AkO4nSzgqyTH1NwLN9iA0PtVIUQ2m', choices=[Choice(finish_reason='stop', index=0, logprobs=None, message=ChatCompletionMessage(content='The Wikipedia article on Manmohan Singh is trending due to his recent death on December 26, 2024, marking the end of an influential political career as the 13th Prime Minister of India from 2004 to 2014. His passing has likely prompted renewed interest in his contributions to Indian politics and economic policy, along with reflections on his legacy within the Indian National Congress party.', refusal=None, role='assistant', audio=None, function_call=None, tool_calls=None))], created=1735619001, model='gpt-4o-mini-2024-07-18', object='chat.completion', service_tier=None, system_fingerprint='fp_0aa8d3e20b', usage=CompletionUsage(completion_tokens=81, prompt_tokens=1594, total_tokens=1675, completion_tokens_details=CompletionTokensDetails(accepted_prediction_tokens=0, audio_tokens=0, reasoning_tokens=0, rejected_prediction_tokens=0), prompt_tokens_details=PromptTokensDetails(audio_tokens=0, cached_tokens=0)))\n",
      "trendingreason: The Wikipedia article on Manmohan Singh is trending due to his recent death on December 26, 2024, marking the end of an influential political career as the 13th Prime Minister of India from 2004 to 2014. His passing has likely prompted renewed interest in his contributions to Indian politics and economic policy, along with reflections on his legacy within the Indian National Congress party.\n",
      "Analyzing Nitish_Kumar_Reddy\n",
      "https://en.wikipedia.org/w/index.php?title=Nitish_Kumar_Reddy&action=raw\n",
      "Token count: 3664\n",
      "Truncated Token count: 1642\n",
      "response: ChatCompletion(id='chatcmpl-AkO4o00FEOBMYWjSv5sSOByB1mdyv', choices=[Choice(finish_reason='stop', index=0, logprobs=None, message=ChatCompletionMessage(content='The article on Nitish Kumar Reddy is likely trending on Wikipedia due to his recent performances in international cricket, including making his Test debut against Australia in the highly followed Border-Gavaskar Trophy series, and the excitement surrounding his promising career as a young all-rounder. His rapid ascent in the sport and participation in significant matches have captured public interest, particularly as cricket fans look ahead to the upcoming 2024 cricket season.', refusal=None, role='assistant', audio=None, function_call=None, tool_calls=None))], created=1735619002, model='gpt-4o-mini-2024-07-18', object='chat.completion', service_tier=None, system_fingerprint='fp_0aa8d3e20b', usage=CompletionUsage(completion_tokens=86, prompt_tokens=1691, total_tokens=1777, completion_tokens_details=CompletionTokensDetails(accepted_prediction_tokens=0, audio_tokens=0, reasoning_tokens=0, rejected_prediction_tokens=0), prompt_tokens_details=PromptTokensDetails(audio_tokens=0, cached_tokens=0)))\n",
      "trendingreason: The article on Nitish Kumar Reddy is likely trending on Wikipedia due to his recent performances in international cricket, including making his Test debut against Australia in the highly followed Border-Gavaskar Trophy series, and the excitement surrounding his promising career as a young all-rounder. His rapid ascent in the sport and participation in significant matches have captured public interest, particularly as cricket fans look ahead to the upcoming 2024 cricket season.\n",
      "Analyzing Pushpa_2:_The_Rule\n",
      "https://en.wikipedia.org/w/index.php?title=Pushpa_2:_The_Rule&action=raw\n",
      "Token count: 38320\n",
      "Truncated Token count: 1518\n",
      "response: ChatCompletion(id='chatcmpl-AkO4qEi1mzc8I1iyEUZ3VdZRY1THE', choices=[Choice(finish_reason='stop', index=0, logprobs=None, message=ChatCompletionMessage(content=\"The article about *Pushpa 2: The Rule* is likely trending on Wikipedia as it has just been released on December 5, 2024, and is experiencing significant box office success, grossing approximately ₹1719.5 crores within weeks of its release. Additionally, the film's high budget and the star power of Allu Arjun, Rashmika Mandanna, and Fahadh Faasil have generated substantial media coverage and public interest, further elevating its visibility.\", refusal=None, role='assistant', audio=None, function_call=None, tool_calls=None))], created=1735619004, model='gpt-4o-mini-2024-07-18', object='chat.completion', service_tier=None, system_fingerprint='fp_d02d531b47', usage=CompletionUsage(completion_tokens=100, prompt_tokens=1587, total_tokens=1687, completion_tokens_details=CompletionTokensDetails(accepted_prediction_tokens=0, audio_tokens=0, reasoning_tokens=0, rejected_prediction_tokens=0), prompt_tokens_details=PromptTokensDetails(audio_tokens=0, cached_tokens=0)))\n",
      "trendingreason: The article about *Pushpa 2: The Rule* is likely trending on Wikipedia as it has just been released on December 5, 2024, and is experiencing significant box office success, grossing approximately ₹1719.5 crores within weeks of its release. Additionally, the film's high budget and the star power of Allu Arjun, Rashmika Mandanna, and Fahadh Faasil have generated substantial media coverage and public interest, further elevating its visibility.\n",
      "Analyzing Deaths_in_2024\n",
      "https://en.wikipedia.org/w/index.php?title=Deaths_in_2024&action=raw\n",
      "Token count: 69988\n",
      "Truncated Token count: 1418\n",
      "response: ChatCompletion(id='chatcmpl-AkO4tDyWciaE92cGy0xYwRqUDWoiW', choices=[Choice(finish_reason='stop', index=0, logprobs=None, message=ChatCompletionMessage(content='The \"Deaths in 2024\" article is trending on Wikipedia likely due to the increasing number of notable figures who have passed away as the year comes to a close, which often prompts public reflection and discussion. High-profile deaths, such as those of journalists, cultural figures, and sports icons, can significantly drive interest as users seek to learn more about their contributions and legacies.', refusal=None, role='assistant', audio=None, function_call=None, tool_calls=None))], created=1735619007, model='gpt-4o-mini-2024-07-18', object='chat.completion', service_tier=None, system_fingerprint='fp_0aa8d3e20b', usage=CompletionUsage(completion_tokens=77, prompt_tokens=1417, total_tokens=1494, completion_tokens_details=CompletionTokensDetails(accepted_prediction_tokens=0, audio_tokens=0, reasoning_tokens=0, rejected_prediction_tokens=0), prompt_tokens_details=PromptTokensDetails(audio_tokens=0, cached_tokens=0)))\n",
      "trendingreason: The \"Deaths in 2024\" article is trending on Wikipedia likely due to the increasing number of notable figures who have passed away as the year comes to a close, which often prompts public reflection and discussion. High-profile deaths, such as those of journalists, cultural figures, and sports icons, can significantly drive interest as users seek to learn more about their contributions and legacies.\n"
     ]
    }
   ],
   "source": [
    "from openai import OpenAI\n",
    "client = OpenAI(api_key=OPENAI_API_KEY)\n",
    "\n",
    "articles_with_reasons = []\n",
    "\n",
    "\n",
    "for item in featured_feed['mostread']['articles'][:10]:\n",
    "    title = item['title']\n",
    "    views = item['views']\n",
    "    link = item['content_urls']['desktop']['page']\n",
    "    extract = item['extract']\n",
    "    thumbnail = item.get('thumbnail', {}).get('source', None)\n",
    "    print(f\"Analyzing {title}\")\n",
    "\n",
    "    date_to_query = yesterday\n",
    "\n",
    "    # Download raw text of article\n",
    "    url = f\"https://en.wikipedia.org/w/index.php?title={title}&action=raw\"\n",
    "    print(url)\n",
    "\n",
    "    article_text = requests.get(url).text\n",
    "    article_text_truncated = article_text[:5000]\n",
    "    \n",
    "    print(f\"Token count: {num_tokens_from_string(article_text, 'cl100k_base')}\")\n",
    "    print(f\"Truncated Token count: {num_tokens_from_string(article_text_truncated, 'cl100k_base')}\")\n",
    "\n",
    "\n",
    "    prompt = f\"Act as a professional news summarizer. Based on your knowledge of {title} and the following extract. In 1-2 sentences, explain why the {title} article might be trending on Wikipedia on #{date_to_query}:\\n\\n{article_text_truncated}\"\n",
    "\n",
    "\n",
    "    response = client.chat.completions.create(\n",
    "    model=\"gpt-4o-mini\",\n",
    "    messages=[\n",
    "        {\n",
    "        \"role\": \"user\",\n",
    "        \"content\": prompt\n",
    "        }\n",
    "    ],\n",
    "    temperature=1,\n",
    "    max_tokens=2048,\n",
    "    top_p=1\n",
    "    )\n",
    "    print(f\"response: {response}\")\n",
    "    print(f\"trendingreason: {response.choices[0].message.content}\")\n",
    "    \n",
    "    article={\n",
    "        'title': title,\n",
    "        'views': views,\n",
    "        'link': link,\n",
    "        'thumbnail': thumbnail,\n",
    "        'extract': extract,\n",
    "        'trendingreason': response.choices[0].message.content\n",
    "    }\n",
    "\n",
    "\n",
    "\n",
    "    articles_with_reasons.append(article)\n"
   ]
  },
  {
   "cell_type": "markdown",
   "metadata": {},
   "source": [
    "Kept running into rate limit errors... But the results I was getting are very positive and close to what I was looking for.\n",
    "\n",
    "On the downside.. running this for two days hit the Tokens Per Minute limits and cost almost $7....\n",
    "\n",
    "This is enough for this"
   ]
  },
  {
   "cell_type": "markdown",
   "metadata": {},
   "source": [
    "### Save vital information to new file"
   ]
  },
  {
   "cell_type": "code",
   "execution_count": 19,
   "metadata": {},
   "outputs": [
    {
     "name": "stdout",
     "output_type": "stream",
     "text": [
      "articles_with_reasons saved to data/2024-12-29-trending-reasons.json\n"
     ]
    }
   ],
   "source": [
    "file_path = f'{file_directory}/{base_file_name}-trending-reasons.json'\n",
    "\n",
    "# Save to JSON file (overwrite if it already exists)\n",
    "with open(file_path, 'w', encoding='utf-8') as file:\n",
    "    json.dump(articles_with_reasons, file, indent=4, ensure_ascii=False)\n",
    "\n",
    "print(f'articles_with_reasons saved to {file_path}')"
   ]
  },
  {
   "cell_type": "markdown",
   "metadata": {},
   "source": [
    "#### Build HTML Page to display the top 10 list complete with thumbnails and the reason generated by ChatGPT"
   ]
  },
  {
   "cell_type": "code",
   "execution_count": 36,
   "metadata": {},
   "outputs": [
    {
     "data": {
      "text/html": [
       "<h1>Wikipedia's most viewed articles on December 29, 2024</h1><ol>\n",
       "\n",
       "    <li>\n",
       "        <h2>\n",
       "          <a href=\"https://en.wikipedia.org/wiki/Squid_Game_season_2\" target=\"_blank\">Squid_Game_season_2</a><br>\n",
       "        </h2>\n",
       "        <img src=\"https://upload.wikimedia.org/wikipedia/en/3/38/Squid_Game_season_2_poster.png\" alt=\"Thumbnail for Squid_Game_season_2\"/><br>\n",
       "        <strong>Views:</strong> 754367<br><br>\n",
       "        <strong>Reason for Trending:</strong> The article on *Squid Game* Season 2 is likely trending on Wikipedia due to the show's recent release on December 26, 2024, which has generated significant buzz and media coverage. Following the success of its first season, the anticipation for the continuation of Seong Gi-hun's story, alongside the confirmation of a third season set for 2025, has captured the attention of fans and critics alike.\n",
       "    </li>\n",
       "\n",
       "    \n",
       "    <li>\n",
       "        <h2>\n",
       "          <a href=\"https://en.wikipedia.org/wiki/Olivia_Hussey\" target=\"_blank\">Olivia_Hussey</a><br>\n",
       "        </h2>\n",
       "        <img src=\"https://upload.wikimedia.org/wikipedia/commons/e/e2/Olivia_Hussey_ca._1970s_%28cropped%29.png\" alt=\"Thumbnail for Olivia_Hussey\"/><br>\n",
       "        <strong>Views:</strong> 577151<br><br>\n",
       "        <strong>Reason for Trending:</strong> The article on Olivia Hussey is trending on Wikipedia following her recent death on December 27, 2024, at the age of 73. As a celebrated actress known for iconic roles in films such as *Romeo and Juliet* (1968) and *Black Christmas* (1974), her passing has prompted widespread media coverage and public interest, resulting in increased traffic to her Wikipedia page.\n",
       "    </li>\n",
       "\n",
       "    \n",
       "    <li>\n",
       "        <h2>\n",
       "          <a href=\"https://en.wikipedia.org/wiki/Greg_Gumbel\" target=\"_blank\">Greg_Gumbel</a><br>\n",
       "        </h2>\n",
       "        <img src=\"https://upload.wikimedia.org/wikipedia/commons/0/03/Greg_Gumbel_2009.jpg\" alt=\"Thumbnail for Greg_Gumbel\"/><br>\n",
       "        <strong>Views:</strong> 480422<br><br>\n",
       "        <strong>Reason for Trending:</strong> The Greg Gumbel article is likely trending on Wikipedia due to the recent passing of the renowned sportscaster on December 27, 2024, at the age of 78. His significant contributions to sports broadcasting, including being the first African-American announcer for a major sports championship, have sparked renewed interest in his legacy and career.\n",
       "    </li>\n",
       "\n",
       "    \n",
       "    <li>\n",
       "        <h2>\n",
       "          <a href=\"https://en.wikipedia.org/wiki/Bryant_Gumbel\" target=\"_blank\">Bryant_Gumbel</a><br>\n",
       "        </h2>\n",
       "        <img src=\"https://upload.wikimedia.org/wikipedia/commons/thumb/4/4e/Bryant_Gumbel_Peabody_2013_%28cropped%29.jpg/320px-Bryant_Gumbel_Peabody_2013_%28cropped%29.jpg\" alt=\"Thumbnail for Bryant_Gumbel\"/><br>\n",
       "        <strong>Views:</strong> 424128<br><br>\n",
       "        <strong>Reason for Trending:</strong> The Bryant Gumbel article might be trending on Wikipedia around December 29, 2024, due to significant recent media coverage of his career achievements or possible retrospectives following a milestone anniversary of his influential work in journalism and sports broadcasting. Additionally, any events related to his personal life or health, or tributes in the wake of his passing, could further amplify interest in his biography.\n",
       "    </li>\n",
       "\n",
       "    \n",
       "    <li>\n",
       "        <h2>\n",
       "          <a href=\"https://en.wikipedia.org/wiki/Nosferatu_(2024_film)\" target=\"_blank\">Nosferatu_(2024_film)</a><br>\n",
       "        </h2>\n",
       "        <img src=\"https://upload.wikimedia.org/wikipedia/en/4/48/Nosferatu_IMAX_poster_2024.jpg\" alt=\"Thumbnail for Nosferatu_(2024_film)\"/><br>\n",
       "        <strong>Views:</strong> 314003<br><br>\n",
       "        <strong>Reason for Trending:</strong> The article on *Nosferatu* (2024 film) is trending on Wikipedia as of December 29, 2024, likely due to its recent release on December 25, 2024, and the noteworthy positive critical reception it has received, marking it as a significant cinematic event. Directed by Robert Eggers and featuring a star-studded cast, the film's intriguing blend of horror elements and its connections to classic literature make it a topic of interest among movie enthusiasts.\n",
       "    </li>\n",
       "\n",
       "    \n",
       "    <li>\n",
       "        <h2>\n",
       "          <a href=\"https://en.wikipedia.org/wiki/Squid_Game\" target=\"_blank\">Squid_Game</a><br>\n",
       "        </h2>\n",
       "        <img src=\"https://upload.wikimedia.org/wikipedia/commons/thumb/e/e4/Squid_Game_2021_vector_logo.svg/320px-Squid_Game_2021_vector_logo.svg.png\" alt=\"Thumbnail for Squid_Game\"/><br>\n",
       "        <strong>Views:</strong> 280025<br><br>\n",
       "        <strong>Reason for Trending:</strong> The \"Squid Game\" article is likely trending on Wikipedia on December 29, 2024, due to the recent release of its highly anticipated second season on December 26, which has generated significant viewer interest and conversation. Additionally, the success of the show, both critically and commercially, continues to keep it in the public eye, especially as fans discuss new developments in the story and its themes.\n",
       "    </li>\n",
       "\n",
       "    \n",
       "    <li>\n",
       "        <h2>\n",
       "          <a href=\"https://en.wikipedia.org/wiki/Manmohan_Singh\" target=\"_blank\">Manmohan_Singh</a><br>\n",
       "        </h2>\n",
       "        <img src=\"https://upload.wikimedia.org/wikipedia/commons/thumb/f/f1/Official_Portrait_of_the_Prime_Minister_Dr._Manmohan_Singh.jpg/320px-Official_Portrait_of_the_Prime_Minister_Dr._Manmohan_Singh.jpg\" alt=\"Thumbnail for Manmohan_Singh\"/><br>\n",
       "        <strong>Views:</strong> 252999<br><br>\n",
       "        <strong>Reason for Trending:</strong> The Wikipedia article on Manmohan Singh is trending due to his recent death on December 26, 2024, marking the end of an influential political career as the 13th Prime Minister of India from 2004 to 2014. His passing has likely prompted renewed interest in his contributions to Indian politics and economic policy, along with reflections on his legacy within the Indian National Congress party.\n",
       "    </li>\n",
       "\n",
       "    \n",
       "    <li>\n",
       "        <h2>\n",
       "          <a href=\"https://en.wikipedia.org/wiki/Nitish_Kumar_Reddy\" target=\"_blank\">Nitish_Kumar_Reddy</a><br>\n",
       "        </h2>\n",
       "        <img src=\"https://upload.wikimedia.org/wikipedia/commons/thumb/1/1e/Nitish_Kumar_Reddy_BGT_2024_%28cropped%29_2.jpg/320px-Nitish_Kumar_Reddy_BGT_2024_%28cropped%29_2.jpg\" alt=\"Thumbnail for Nitish_Kumar_Reddy\"/><br>\n",
       "        <strong>Views:</strong> 249568<br><br>\n",
       "        <strong>Reason for Trending:</strong> The article on Nitish Kumar Reddy is likely trending on Wikipedia due to his recent performances in international cricket, including making his Test debut against Australia in the highly followed Border-Gavaskar Trophy series, and the excitement surrounding his promising career as a young all-rounder. His rapid ascent in the sport and participation in significant matches have captured public interest, particularly as cricket fans look ahead to the upcoming 2024 cricket season.\n",
       "    </li>\n",
       "\n",
       "    \n",
       "    <li>\n",
       "        <h2>\n",
       "          <a href=\"https://en.wikipedia.org/wiki/Pushpa_2%3A_The_Rule\" target=\"_blank\">Pushpa_2:_The_Rule</a><br>\n",
       "        </h2>\n",
       "        <img src=\"https://upload.wikimedia.org/wikipedia/en/1/11/Pushpa_2-_The_Rule.jpg\" alt=\"Thumbnail for Pushpa_2:_The_Rule\"/><br>\n",
       "        <strong>Views:</strong> 200500<br><br>\n",
       "        <strong>Reason for Trending:</strong> The article about *Pushpa 2: The Rule* is likely trending on Wikipedia as it has just been released on December 5, 2024, and is experiencing significant box office success, grossing approximately ₹1719.5 crores within weeks of its release. Additionally, the film's high budget and the star power of Allu Arjun, Rashmika Mandanna, and Fahadh Faasil have generated substantial media coverage and public interest, further elevating its visibility.\n",
       "    </li>\n",
       "\n",
       "    \n",
       "    <li>\n",
       "        <h2>\n",
       "          <a href=\"https://en.wikipedia.org/wiki/Deaths_in_2024\" target=\"_blank\">Deaths_in_2024</a><br>\n",
       "        </h2>\n",
       "        <p><em>No thumbnail available</em></p>\n",
       "        <strong>Views:</strong> 157698<br><br>\n",
       "        <strong>Reason for Trending:</strong> The \"Deaths in 2024\" article is trending on Wikipedia likely due to the increasing number of notable figures who have passed away as the year comes to a close, which often prompts public reflection and discussion. High-profile deaths, such as those of journalists, cultural figures, and sports icons, can significantly drive interest as users seek to learn more about their contributions and legacies.\n",
       "    </li>\n",
       "\n",
       "    </ol>"
      ],
      "text/plain": [
       "<IPython.core.display.HTML object>"
      ]
     },
     "metadata": {},
     "output_type": "display_data"
    }
   ],
   "source": [
    "# Start building the HTML\n",
    "html_title = f\"<h1>Wikipedia's most viewed articles on {date_to_query.strftime(\"%B %d, %Y\")}</h1>\"\n",
    "html_list = \"<ol>\\n\"\n",
    "\n",
    "# Iterate through the data\n",
    "for item in articles_with_reasons:\n",
    "    title = item['title']\n",
    "    link = item['link']\n",
    "    thumbnail = item['thumbnail']\n",
    "    trendingreason = item['trendingreason']\n",
    "    views = item['views']\n",
    "    extract = item['extract']\n",
    "\n",
    "    # Handle null thumbnail\n",
    "    if thumbnail:\n",
    "        thumbnail_html = f'<img src=\"{thumbnail}\" alt=\"Thumbnail for {title}\"/><br>'\n",
    "    else:\n",
    "        thumbnail_html = '<p><em>No thumbnail available</em></p>'\n",
    "    \n",
    "    # Create a list item for each entry\n",
    "    html_list += f\"\"\"\n",
    "    <li>\n",
    "        <h2>\n",
    "          <a href=\"{link}\" target=\"_blank\">{title}</a><br>\n",
    "        </h2>\n",
    "        {thumbnail_html}\n",
    "        <strong>Views:</strong> {views}<br><br>\n",
    "        <strong>Reason for Trending:</strong> {trendingreason}\n",
    "    </li>\\n\n",
    "    \"\"\"\n",
    "\n",
    "# Close the HTML list\n",
    "html_list += \"</ol>\"\n",
    "\n",
    "html_page = html_title + html_list\n",
    "# Save to html file (overwrite if it already exists)\n",
    "file_path = f'{file_directory}/{base_file_name}.html'\n",
    "\n",
    "with open(file_path, 'w', encoding='utf-8') as file:\n",
    "    file.write(html_page)\n",
    "\n",
    "# Display the HTML in the notebook\n",
    "from IPython.display import display, HTML\n",
    "display(HTML(html_page))"
   ]
  }
 ],
 "metadata": {
  "kernelspec": {
   "display_name": ".venv",
   "language": "python",
   "name": "python3"
  },
  "language_info": {
   "codemirror_mode": {
    "name": "ipython",
    "version": 3
   },
   "file_extension": ".py",
   "mimetype": "text/x-python",
   "name": "python",
   "nbconvert_exporter": "python",
   "pygments_lexer": "ipython3",
   "version": "3.12.7"
  },
  "orig_nbformat": 4
 },
 "nbformat": 4,
 "nbformat_minor": 2
}
